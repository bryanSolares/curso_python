{
 "cells": [
  {
   "cell_type": "code",
   "execution_count": 3,
   "id": "1a6879a1-f467-465c-9029-536beae997be",
   "metadata": {},
   "outputs": [
    {
     "name": "stdout",
     "output_type": "stream",
     "text": [
      "Test\n"
     ]
    }
   ],
   "source": [
    "print(\"Test\")"
   ]
  },
  {
   "cell_type": "code",
   "execution_count": 4,
   "id": "1b384817-8b9d-45c4-8f0c-ac4a0d504fe3",
   "metadata": {},
   "outputs": [
    {
     "name": "stdout",
     "output_type": "stream",
     "text": [
      "Hola Mundo 1\n"
     ]
    }
   ],
   "source": [
    "print(\"Hola Mundo 1\")"
   ]
  },
  {
   "cell_type": "code",
   "execution_count": 5,
   "id": "81a6d1b1-afe8-4ba2-84f4-cfd2aaab3576",
   "metadata": {},
   "outputs": [
    {
     "name": "stdout",
     "output_type": "stream",
     "text": [
      "Hola Mundo 2\n"
     ]
    }
   ],
   "source": [
    "print(\"Hola Mundo 2\")"
   ]
  },
  {
   "cell_type": "code",
   "execution_count": 6,
   "id": "66d9e1d3-ee3d-4fd6-b20e-59d2c5360878",
   "metadata": {},
   "outputs": [
    {
     "name": "stdout",
     "output_type": "stream",
     "text": [
      "Hola Mundo 3\n"
     ]
    }
   ],
   "source": [
    "print(\"Hola Mundo 3\")"
   ]
  },
  {
   "cell_type": "code",
   "execution_count": null,
   "id": "4884116d-bb2a-4203-9464-c2884a39b1e0",
   "metadata": {},
   "outputs": [],
   "source": []
  }
 ],
 "metadata": {
  "kernelspec": {
   "display_name": "Python 3 (ipykernel)",
   "language": "python",
   "name": "python3"
  },
  "language_info": {
   "codemirror_mode": {
    "name": "ipython",
    "version": 3
   },
   "file_extension": ".py",
   "mimetype": "text/x-python",
   "name": "python",
   "nbconvert_exporter": "python",
   "pygments_lexer": "ipython3",
   "version": "3.12.0"
  }
 },
 "nbformat": 4,
 "nbformat_minor": 5
}
